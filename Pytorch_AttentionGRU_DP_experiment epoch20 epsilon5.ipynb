{
  "nbformat": 4,
  "nbformat_minor": 0,
  "metadata": {
    "colab": {
      "provenance": [],
      "gpuType": "T4",
      "mount_file_id": "1TxOXSk7EByCs6bEZ_ObsNFBcrzrv4MXb",
      "authorship_tag": "ABX9TyOAij6UfmajiNxpO/6fbg0L",
      "include_colab_link": true
    },
    "kernelspec": {
      "name": "python3",
      "display_name": "Python 3"
    },
    "language_info": {
      "name": "python"
    },
    "accelerator": "GPU"
  },
  "cells": [
    {
      "cell_type": "markdown",
      "metadata": {
        "id": "view-in-github",
        "colab_type": "text"
      },
      "source": [
        "<a href=\"https://colab.research.google.com/github/jingvf/IDS/blob/main/Pytorch_AttentionGRU_DP_experiment%20epoch20%20epsilon5.ipynb\" target=\"_parent\"><img src=\"https://colab.research.google.com/assets/colab-badge.svg\" alt=\"Open In Colab\"/></a>"
      ]
    },
    {
      "cell_type": "code",
      "metadata": {
        "id": "9826b547",
        "colab": {
          "base_uri": "https://localhost:8080/"
        },
        "outputId": "3ae12d19-2ac7-4bfe-8714-482f45c0e894"
      },
      "source": [
        "!pip install opacus==1.1.3 -q # 指定稳定版本\n",
        "\n",
        "import opacus\n",
        "print(opacus.__version__)"
      ],
      "execution_count": 1,
      "outputs": [
        {
          "output_type": "stream",
          "name": "stdout",
          "text": [
            "1.1.3\n"
          ]
        }
      ]
    },
    {
      "cell_type": "code",
      "execution_count": 2,
      "metadata": {
        "id": "S8Jmwbcv_DdW",
        "colab": {
          "base_uri": "https://localhost:8080/"
        },
        "outputId": "b5e70e67-ab1f-48fd-baa3-8b12c59c34bc"
      },
      "outputs": [
        {
          "output_type": "stream",
          "name": "stdout",
          "text": [
            "Using device: cuda\n"
          ]
        }
      ],
      "source": [
        "import pandas as pd\n",
        "import numpy as np\n",
        "import torch\n",
        "import torch.nn as nn\n",
        "import torch.nn.functional as F\n",
        "import torch.optim as optim\n",
        "from sklearn.preprocessing import StandardScaler, LabelEncoder\n",
        "from sklearn.model_selection import train_test_split\n",
        "from sklearn.metrics import accuracy_score, f1_score, confusion_matrix\n",
        "from torch.utils.data import TensorDataset, DataLoader\n",
        "from opacus import PrivacyEngine\n",
        "from tqdm import tqdm\n",
        "import matplotlib.pyplot as plt\n",
        "\n",
        "device = torch.device(\"cuda\" if torch.cuda.is_available() else \"cpu\")\n",
        "print(f\"Using device: {device}\")\n",
        "# 加载数据\n",
        "data_path = '/content/drive/MyDrive/2025paper/dataset/small_dataset.csv'  # 替换为你的数据路径\n",
        "df = pd.read_csv(data_path)"
      ]
    },
    {
      "cell_type": "code",
      "source": [
        "# 输出类别数量\n",
        "num_classes = df['Class'].nunique()\n",
        "print(f\"总类别数: {num_classes}\")\n",
        "\n",
        "# 输出每个类别的数量\n",
        "class_counts = df['Class'].value_counts()\n",
        "print(\"每个类别的样本数量：\")\n",
        "print(class_counts)\n",
        "print(df.head())"
      ],
      "metadata": {
        "id": "EO6bYi9E_3Ut",
        "colab": {
          "base_uri": "https://localhost:8080/"
        },
        "outputId": "f71f7494-d167-4a01-f44b-c4bc7f54a453"
      },
      "execution_count": 3,
      "outputs": [
        {
          "output_type": "stream",
          "name": "stdout",
          "text": [
            "总类别数: 5\n",
            "每个类别的样本数量：\n",
            "Class\n",
            "Normal          946844\n",
            "SpoofingRPM      65490\n",
            "SpoofingGear     59725\n",
            "DoS              10553\n",
            "Fuzzy             8967\n",
            "Name: count, dtype: int64\n",
            "      Timestamp CAN ID  DLC Data[0] Data[1] Data[2] Data[3] Data[4] Data[5]  \\\n",
            "0  1.478192e+09    316    8      45      29      24      ff      29      24   \n",
            "1  1.478192e+09    316    8      45      29      24      ff      29      24   \n",
            "2  1.478195e+09   0140    8      00      00      00      00      08      28   \n",
            "3  1.478191e+09   0545    8      d8      00      00      8a      00      00   \n",
            "4  1.478195e+09   043f    8       1      45      60      ff      6b       0   \n",
            "\n",
            "  Data[6] Data[7]         Class  \n",
            "0       0      ff   SpoofingRPM  \n",
            "1       0      ff   SpoofingRPM  \n",
            "2      2f      15        Normal  \n",
            "3      00      00        Normal  \n",
            "4       0       0  SpoofingGear  \n"
          ]
        }
      ]
    },
    {
      "cell_type": "code",
      "source": [
        "# 1. CAN ID 转成 int（十六进制字符串 → 十进制）\n",
        "# =====================\n",
        "df[\"CAN ID\"] = df[\"CAN ID\"].apply(lambda x: int(str(x), 16) if isinstance(x, str) else int(x))\n",
        "\n",
        "# 特征列\n",
        "feature_cols = [\"CAN ID\", \"DLC\"] + [f\"Data[{i}]\" for i in range(8)]\n",
        "X_features = df[feature_cols].astype(str).applymap(lambda x: int(x, 16) if isinstance(x, str) else int(x)).values\n",
        "\n",
        "# 标签\n",
        "y = df[\"Class\"].values\n",
        "le = LabelEncoder()\n",
        "y_encoded = le.fit_transform(y)\n",
        "\n",
        "# 标准化\n",
        "scaler = StandardScaler()\n",
        "X_scaled = scaler.fit_transform(X_features)\n",
        "\n",
        "# 数据维度调整 (B, T, F)，这里把 T=1 表示每条 CAN 消息为一个时间步\n",
        "X_scaled = X_scaled[:, np.newaxis, :]  # shape -> [num_samples, 1, num_features]\n",
        "\n",
        "# =====================\n",
        "# 5. 类别权重 (用统计的数量，如果需要自动算就用 np.bincount(y_encoded))\n",
        "# =====================\n",
        "counts = [946844, 65490, 59725, 10553, 8967]  # 示例：之前统计好的数量\n",
        "device = torch.device(\"cuda\" if torch.cuda.is_available() else \"cpu\")\n",
        "print(f\"Using device: {device}\")\n"
      ],
      "metadata": {
        "id": "A0HmSkdw_2CI",
        "colab": {
          "base_uri": "https://localhost:8080/"
        },
        "outputId": "bac45d43-e4f5-4299-9dc2-dd50043048cf"
      },
      "execution_count": 4,
      "outputs": [
        {
          "output_type": "stream",
          "name": "stderr",
          "text": [
            "/tmp/ipython-input-507287565.py:7: FutureWarning: DataFrame.applymap has been deprecated. Use DataFrame.map instead.\n",
            "  X_features = df[feature_cols].astype(str).applymap(lambda x: int(x, 16) if isinstance(x, str) else int(x)).values\n"
          ]
        },
        {
          "output_type": "stream",
          "name": "stdout",
          "text": [
            "Using device: cuda\n"
          ]
        }
      ]
    },
    {
      "cell_type": "code",
      "source": [
        "X_train, X_temp, y_train, y_temp = train_test_split(X_scaled, y_encoded, test_size=0.3, random_state=42)\n",
        "X_val, X_test, y_val, y_test = train_test_split(X_temp, y_temp, test_size=0.5, random_state=42)\n",
        "\n",
        "# 转 Tensor\n",
        "train_dataset = TensorDataset(torch.tensor(X_train, dtype=torch.float32),\n",
        "                              torch.tensor(y_train, dtype=torch.long))\n",
        "val_dataset = TensorDataset(torch.tensor(X_val, dtype=torch.float32),\n",
        "                            torch.tensor(y_val, dtype=torch.long))\n",
        "test_dataset = TensorDataset(torch.tensor(X_test, dtype=torch.float32),\n",
        "                             torch.tensor(y_test, dtype=torch.long))\n",
        "\n",
        "BATCH_SIZE = 256\n",
        "train_loader = DataLoader(train_dataset, batch_size=BATCH_SIZE, shuffle=True, drop_last=True)\n",
        "val_loader = DataLoader(val_dataset, batch_size=BATCH_SIZE, shuffle=False)\n",
        "test_loader = DataLoader(test_dataset, batch_size=BATCH_SIZE, shuffle=False)"
      ],
      "metadata": {
        "id": "AH38IIR1TFrs"
      },
      "execution_count": 5,
      "outputs": []
    },
    {
      "cell_type": "code",
      "source": [
        "# 3. 模型定义：CNN-Attention (DP友好)\n",
        "# ================================\n",
        "class DPMultiHeadSelfAttention(nn.Module):\n",
        "    def __init__(self, embed_dim, num_heads):\n",
        "        super().__init__()\n",
        "        assert embed_dim % num_heads == 0\n",
        "        self.num_heads = num_heads\n",
        "        self.head_dim = embed_dim // num_heads\n",
        "        self.q_proj = nn.Linear(embed_dim, embed_dim)\n",
        "        self.k_proj = nn.Linear(embed_dim, embed_dim)\n",
        "        self.v_proj = nn.Linear(embed_dim, embed_dim)\n",
        "        self.out_proj = nn.Linear(embed_dim, embed_dim)\n",
        "\n",
        "    def forward(self, x):\n",
        "        B, T, C = x.shape\n",
        "        Q = self.q_proj(x).view(B, T, self.num_heads, self.head_dim).transpose(1, 2)\n",
        "        K = self.k_proj(x).view(B, T, self.num_heads, self.head_dim).transpose(1, 2)\n",
        "        V = self.v_proj(x).view(B, T, self.num_heads, self.head_dim).transpose(1, 2)\n",
        "        attn_scores = (Q @ K.transpose(-2, -1)) / (self.head_dim ** 0.5)\n",
        "        attn_weights = F.softmax(attn_scores, dim=-1)\n",
        "        attn_out = attn_weights @ V\n",
        "        attn_out = attn_out.transpose(1, 2).contiguous().view(B, T, C)\n",
        "        return self.out_proj(attn_out)\n",
        "\n",
        "class DPCNNAttention(nn.Module):\n",
        "    def __init__(self, input_dim, num_classes, num_heads=4, hidden_dim=128):\n",
        "        super().__init__()\n",
        "        self.conv1 = nn.Conv1d(input_dim, hidden_dim, kernel_size=3, padding=1)\n",
        "        self.conv2 = nn.Conv1d(hidden_dim, hidden_dim, kernel_size=3, padding=1)\n",
        "        self.gn1 = nn.GroupNorm(num_groups=8, num_channels=hidden_dim)\n",
        "        self.gn2 = nn.GroupNorm(num_groups=8, num_channels=hidden_dim)\n",
        "        self.attn = DPMultiHeadSelfAttention(hidden_dim, num_heads)\n",
        "        self.fc = nn.Linear(hidden_dim, num_classes)\n",
        "\n",
        "    def forward(self, x):\n",
        "        x = x.transpose(1, 2)\n",
        "        x = F.relu(self.gn1(self.conv1(x)))\n",
        "        x = F.relu(self.gn2(self.conv2(x)))\n",
        "        x = x.transpose(1, 2)\n",
        "        attn_out = self.attn(x)\n",
        "        pooled = attn_out.mean(dim=1)\n",
        "        return self.fc(pooled)"
      ],
      "metadata": {
        "id": "6marWhK6T4DV"
      },
      "execution_count": 6,
      "outputs": []
    },
    {
      "cell_type": "code",
      "source": [
        "model = DPCNNAttention(11, num_classes).to(device)\n",
        "\n",
        "from torchsummary import summary\n",
        "summary(model, input_size=(100, 11))  # 序列长度为10"
      ],
      "metadata": {
        "colab": {
          "base_uri": "https://localhost:8080/"
        },
        "id": "tJWW9QrpjNQF",
        "outputId": "02febf33-1f36-459a-b122-29530480ffb0"
      },
      "execution_count": 7,
      "outputs": [
        {
          "output_type": "stream",
          "name": "stdout",
          "text": [
            "----------------------------------------------------------------\n",
            "        Layer (type)               Output Shape         Param #\n",
            "================================================================\n",
            "            Conv1d-1             [-1, 128, 100]           4,352\n",
            "         GroupNorm-2             [-1, 128, 100]             256\n",
            "            Conv1d-3             [-1, 128, 100]          49,280\n",
            "         GroupNorm-4             [-1, 128, 100]             256\n",
            "            Linear-5             [-1, 100, 128]          16,512\n",
            "            Linear-6             [-1, 100, 128]          16,512\n",
            "            Linear-7             [-1, 100, 128]          16,512\n",
            "            Linear-8             [-1, 100, 128]          16,512\n",
            "DPMultiHeadSelfAttention-9             [-1, 100, 128]               0\n",
            "           Linear-10                    [-1, 5]             645\n",
            "================================================================\n",
            "Total params: 120,837\n",
            "Trainable params: 120,837\n",
            "Non-trainable params: 0\n",
            "----------------------------------------------------------------\n",
            "Input size (MB): 0.00\n",
            "Forward/backward pass size (MB): 0.88\n",
            "Params size (MB): 0.46\n",
            "Estimated Total Size (MB): 1.34\n",
            "----------------------------------------------------------------\n"
          ]
        }
      ]
    },
    {
      "cell_type": "code",
      "source": [
        "# 4. 训练函数 (支持 DP-SGD & DP-Adam)\n",
        "# ================================\n",
        "def train_and_evaluate(train_loader, val_loader, test_loader, optimizer_type=\"SGD\",\n",
        "                       input_dim=11, num_classes=5, epochs=20, lr=1e-3,\n",
        "                       max_grad_norm=1.0, target_epsilon=5.0, target_delta=1e-5):\n",
        "\n",
        "    model = DPCNNAttention(input_dim, num_classes).to(device)\n",
        "    criterion = nn.CrossEntropyLoss()\n",
        "\n",
        "    if optimizer_type == \"SGD\":\n",
        "        optimizer = optim.SGD(model.parameters(), lr=lr, momentum=0.9)\n",
        "    elif optimizer_type == \"Adam\":\n",
        "        optimizer = optim.Adam(model.parameters(), lr=lr)\n",
        "    else:\n",
        "        raise ValueError(\"Unknown optimizer type\")\n",
        "\n",
        "    privacy_engine = PrivacyEngine()\n",
        "    model, optimizer, train_loader = privacy_engine.make_private_with_epsilon(\n",
        "        module=model,\n",
        "        optimizer=optimizer,\n",
        "        data_loader=train_loader,\n",
        "        epochs=epochs,\n",
        "        target_epsilon=target_epsilon,\n",
        "        target_delta=target_delta,\n",
        "        max_grad_norm=max_grad_norm,\n",
        "    )\n",
        "\n",
        "    train_losses, val_accs, epsilons = [], [], []\n",
        "\n",
        "    for epoch in range(epochs):\n",
        "        model.train()\n",
        "        total_loss, total_correct = 0, 0\n",
        "        progress_bar = tqdm(train_loader, desc=f\"[{optimizer_type}] Epoch {epoch+1}/{epochs}\", leave=False)\n",
        "\n",
        "        for feats, labels in progress_bar:\n",
        "            feats, labels = feats.to(device), labels.to(device)\n",
        "            optimizer.zero_grad()\n",
        "            outputs = model(feats)\n",
        "            loss = criterion(outputs, labels)\n",
        "            loss.backward()\n",
        "            optimizer.step()\n",
        "\n",
        "            preds = outputs.argmax(1)\n",
        "            total_loss += loss.item() * labels.size(0)\n",
        "            total_correct += (preds == labels).sum().item()\n",
        "            progress_bar.set_postfix(loss=loss.item())\n",
        "\n",
        "        train_loss = total_loss / len(train_loader.dataset)\n",
        "        train_acc = total_correct / len(train_loader.dataset)\n",
        "        train_losses.append(train_loss)\n",
        "\n",
        "        # 验证\n",
        "        model.eval()\n",
        "        val_correct, val_total = 0, 0\n",
        "        with torch.no_grad():\n",
        "            for feats, labels in val_loader:\n",
        "                feats, labels = feats.to(device), labels.to(device)\n",
        "                outputs = model(feats)\n",
        "                preds = outputs.argmax(1)\n",
        "                val_correct += (preds == labels).sum().item()\n",
        "                val_total += labels.size(0)\n",
        "        val_acc = val_correct / val_total\n",
        "        val_accs.append(val_acc)\n",
        "\n",
        "        epsilon = privacy_engine.accountant.get_epsilon(delta=target_delta)\n",
        "        epsilons.append(epsilon)\n",
        "        print(f\"[{optimizer_type}] Epoch {epoch+1}: Loss={train_loss:.4f}, Train Acc={train_acc:.4f}, Val Acc={val_acc:.4f}, ε={epsilon:.2f}\")\n",
        "\n",
        "    # 测试\n",
        "    model.eval()\n",
        "    test_correct, test_total = 0, 0\n",
        "    y_true_all, y_pred_all = [], []\n",
        "    with torch.no_grad():\n",
        "        for feats, labels in test_loader:\n",
        "            feats, labels = feats.to(device), labels.to(device)\n",
        "            outputs = model(feats)\n",
        "            preds = outputs.argmax(1)\n",
        "            test_correct += (preds == labels).sum().item()\n",
        "            test_total += labels.size(0)\n",
        "            y_true_all.extend(labels.cpu().numpy())\n",
        "            y_pred_all.extend(preds.cpu().numpy())\n",
        "\n",
        "    test_acc = test_correct / test_total\n",
        "    test_f1 = f1_score(y_true_all, y_pred_all, average=\"macro\")\n",
        "    conf_mat = confusion_matrix(y_true_all, y_pred_all)\n",
        "    print(f\"[{optimizer_type}] Final Test Accuracy={test_acc:.4f}, F1-score={test_f1:.4f}, ε={epsilons[-1]:.2f}\")\n",
        "\n",
        "    return train_losses, val_accs, epsilons, test_acc, test_f1, conf_mat"
      ],
      "metadata": {
        "id": "oWOlVs5HaIzQ"
      },
      "execution_count": 8,
      "outputs": []
    },
    {
      "cell_type": "code",
      "source": [
        "\n",
        "# ================================\n",
        "# 5. 实验对比入口\n",
        "# ================================\n",
        "def run_experiments(train_loader, val_loader, test_loader, input_dim, num_classes):\n",
        "    results = {}\n",
        "    for opt in [\"SGD\", \"Adam\"]:\n",
        "        print(f\"\\n==== Running with DP-{opt} ====\")\n",
        "        train_losses, val_accs, epsilons, test_acc, test_f1, conf_mat = train_and_evaluate(\n",
        "            train_loader, val_loader, test_loader,\n",
        "            optimizer_type=opt,\n",
        "            input_dim=input_dim,\n",
        "            num_classes=num_classes\n",
        "        )\n",
        "        results[opt] = {\"train_losses\": train_losses,\n",
        "                        \"val_accs\": val_accs,\n",
        "                        \"epsilons\": epsilons,\n",
        "                        \"test_acc\": test_acc,\n",
        "                        \"test_f1\": test_f1,\n",
        "                        \"conf_mat\": conf_mat}\n",
        "\n",
        "    # 可视化\n",
        "    plt.figure(figsize=(15,4))\n",
        "    plt.subplot(1,3,1)\n",
        "    plt.plot(results[\"SGD\"][\"train_losses\"], label=\"DP-SGD\")\n",
        "    plt.plot(results[\"Adam\"][\"train_losses\"], label=\"DP-Adam\")\n",
        "    plt.title(\"Training Loss\"); plt.legend()\n",
        "\n",
        "    plt.subplot(1,3,2)\n",
        "    plt.plot(results[\"SGD\"][\"val_accs\"], label=\"DP-SGD\")\n",
        "    plt.plot(results[\"Adam\"][\"val_accs\"], label=\"DP-Adam\")\n",
        "    plt.title(\"Validation Accuracy\"); plt.legend()\n",
        "\n",
        "    plt.subplot(1,3,3)\n",
        "    plt.plot(results[\"SGD\"][\"epsilons\"], label=\"DP-SGD\")\n",
        "    plt.plot(results[\"Adam\"][\"epsilons\"], label=\"DP-Adam\")\n",
        "    plt.title(\"Epsilon over Epochs\"); plt.legend()\n",
        "    plt.show()\n",
        "\n",
        "    return results"
      ],
      "metadata": {
        "id": "08IXOfzAmFHK"
      },
      "execution_count": 9,
      "outputs": []
    },
    {
      "cell_type": "code",
      "source": [
        "# ================================\n",
        "# 6. 运行实验\n",
        "# ================================\n",
        "results = run_experiments(train_loader, val_loader, test_loader,\n",
        "                          input_dim=X_scaled.shape[2], num_classes=len(set(y_encoded)))\n",
        "\n",
        "# 查看混淆矩阵\n",
        "print(\"DP-SGD Confusion Matrix:\\n\", results[\"SGD\"][\"conf_mat\"])\n",
        "print(\"DP-Adam Confusion Matrix:\\n\", results[\"Adam\"][\"conf_mat\"])"
      ],
      "metadata": {
        "colab": {
          "base_uri": "https://localhost:8080/",
          "height": 1000
        },
        "id": "ZqBd-Dh6mHAd",
        "outputId": "abef4977-89e5-4e97-f57e-5db7e8e722f9"
      },
      "execution_count": 10,
      "outputs": [
        {
          "metadata": {
            "tags": null
          },
          "name": "stdout",
          "output_type": "stream",
          "text": [
            "\n",
            "==== Running with DP-SGD ====\n"
          ]
        },
        {
          "metadata": {
            "tags": null
          },
          "name": "stderr",
          "output_type": "stream",
          "text": [
            "/usr/local/lib/python3.12/dist-packages/opacus/privacy_engine.py:133: UserWarning: Secure RNG turned off. This is perfectly fine for experimentation as it allows for much faster training performance, but remember to turn it on and retrain one last time before production with ``secure_mode`` turned on.\n",
            "  warnings.warn(\n",
            "/usr/local/lib/python3.12/dist-packages/opacus/accountants/analysis/rdp.py:332: UserWarning: Optimal order is the largest alpha. Please consider expanding the range of alphas to get a tighter privacy bound.\n",
            "  warnings.warn(\n",
            "WARNING:opacus.data_loader:Ignoring drop_last as it is not compatible with DPDataLoader.\n",
            "[SGD] Epoch 1/20:   0%|          | 0/2984 [00:00<?, ?it/s]/usr/local/lib/python3.12/dist-packages/torch/nn/modules/module.py:1864: FutureWarning: Using a non-full backward hook when the forward contains multiple autograd Nodes is deprecated and will be removed in future versions. This hook will be missing some grad_input. Please use register_full_backward_hook to get the documented behavior.\n",
            "  self._maybe_warn_non_full_backward_hook(args, result, grad_fn)\n"
          ]
        },
        {
          "metadata": {
            "tags": null
          },
          "name": "stdout",
          "output_type": "stream",
          "text": [
            "[SGD] Epoch 1: Loss=0.2924, Train Acc=0.9376, Val Acc=0.9771, ε=3.39\n"
          ]
        },
        {
          "metadata": {
            "tags": null
          },
          "name": "stderr",
          "output_type": "stream",
          "text": [
            ""
          ]
        },
        {
          "metadata": {
            "tags": null
          },
          "name": "stdout",
          "output_type": "stream",
          "text": [
            "[SGD] Epoch 2: Loss=0.1344, Train Acc=0.9822, Val Acc=0.9815, ε=3.60\n"
          ]
        },
        {
          "metadata": {
            "tags": null
          },
          "name": "stderr",
          "output_type": "stream",
          "text": [
            ""
          ]
        },
        {
          "metadata": {
            "tags": null
          },
          "name": "stdout",
          "output_type": "stream",
          "text": [
            "[SGD] Epoch 3: Loss=0.1112, Train Acc=0.9817, Val Acc=0.9815, ε=3.74\n"
          ]
        },
        {
          "metadata": {
            "tags": null
          },
          "name": "stderr",
          "output_type": "stream",
          "text": [
            ""
          ]
        },
        {
          "metadata": {
            "tags": null
          },
          "name": "stdout",
          "output_type": "stream",
          "text": [
            "[SGD] Epoch 4: Loss=0.0979, Train Acc=0.9802, Val Acc=0.9815, ε=3.86\n"
          ]
        },
        {
          "metadata": {
            "tags": null
          },
          "name": "stderr",
          "output_type": "stream",
          "text": [
            ""
          ]
        },
        {
          "metadata": {
            "tags": null
          },
          "name": "stdout",
          "output_type": "stream",
          "text": [
            "[SGD] Epoch 5: Loss=0.0854, Train Acc=0.9825, Val Acc=0.9815, ε=3.96\n"
          ]
        },
        {
          "metadata": {
            "tags": null
          },
          "name": "stderr",
          "output_type": "stream",
          "text": [
            ""
          ]
        },
        {
          "metadata": {
            "tags": null
          },
          "name": "stdout",
          "output_type": "stream",
          "text": [
            "[SGD] Epoch 6: Loss=0.0744, Train Acc=0.9803, Val Acc=0.9815, ε=4.06\n"
          ]
        },
        {
          "metadata": {
            "tags": null
          },
          "name": "stderr",
          "output_type": "stream",
          "text": [
            ""
          ]
        },
        {
          "metadata": {
            "tags": null
          },
          "name": "stdout",
          "output_type": "stream",
          "text": [
            "[SGD] Epoch 7: Loss=0.0563, Train Acc=0.9820, Val Acc=0.9816, ε=4.15\n"
          ]
        },
        {
          "metadata": {
            "tags": null
          },
          "name": "stderr",
          "output_type": "stream",
          "text": [
            ""
          ]
        },
        {
          "metadata": {
            "tags": null
          },
          "name": "stdout",
          "output_type": "stream",
          "text": [
            "[SGD] Epoch 8: Loss=0.0448, Train Acc=0.9878, Val Acc=0.9925, ε=4.23\n"
          ]
        },
        {
          "metadata": {
            "tags": null
          },
          "name": "stderr",
          "output_type": "stream",
          "text": [
            ""
          ]
        },
        {
          "metadata": {
            "tags": null
          },
          "name": "stdout",
          "output_type": "stream",
          "text": [
            "[SGD] Epoch 9: Loss=0.0361, Train Acc=0.9927, Val Acc=0.9933, ε=4.30\n"
          ]
        },
        {
          "metadata": {
            "tags": null
          },
          "name": "stderr",
          "output_type": "stream",
          "text": [
            ""
          ]
        },
        {
          "metadata": {
            "tags": null
          },
          "name": "stdout",
          "output_type": "stream",
          "text": [
            "[SGD] Epoch 10: Loss=0.0296, Train Acc=0.9939, Val Acc=0.9941, ε=4.38\n"
          ]
        },
        {
          "metadata": {
            "tags": null
          },
          "name": "stderr",
          "output_type": "stream",
          "text": [
            ""
          ]
        },
        {
          "metadata": {
            "tags": null
          },
          "name": "stdout",
          "output_type": "stream",
          "text": [
            "[SGD] Epoch 11: Loss=0.0258, Train Acc=0.9948, Val Acc=0.9950, ε=4.46\n"
          ]
        },
        {
          "metadata": {
            "tags": null
          },
          "name": "stderr",
          "output_type": "stream",
          "text": [
            ""
          ]
        },
        {
          "metadata": {
            "tags": null
          },
          "name": "stdout",
          "output_type": "stream",
          "text": [
            "[SGD] Epoch 12: Loss=0.0232, Train Acc=0.9969, Val Acc=0.9955, ε=4.52\n"
          ]
        },
        {
          "metadata": {
            "tags": null
          },
          "name": "stderr",
          "output_type": "stream",
          "text": [
            ""
          ]
        },
        {
          "metadata": {
            "tags": null
          },
          "name": "stdout",
          "output_type": "stream",
          "text": [
            "[SGD] Epoch 13: Loss=0.0212, Train Acc=0.9952, Val Acc=0.9960, ε=4.58\n"
          ]
        },
        {
          "metadata": {
            "tags": null
          },
          "name": "stderr",
          "output_type": "stream",
          "text": [
            ""
          ]
        },
        {
          "metadata": {
            "tags": null
          },
          "name": "stdout",
          "output_type": "stream",
          "text": [
            "[SGD] Epoch 14: Loss=0.0191, Train Acc=0.9947, Val Acc=0.9961, ε=4.64\n"
          ]
        },
        {
          "metadata": {
            "tags": null
          },
          "name": "stderr",
          "output_type": "stream",
          "text": [
            ""
          ]
        },
        {
          "metadata": {
            "tags": null
          },
          "name": "stdout",
          "output_type": "stream",
          "text": [
            "[SGD] Epoch 15: Loss=0.0174, Train Acc=0.9967, Val Acc=0.9964, ε=4.71\n"
          ]
        },
        {
          "metadata": {
            "tags": null
          },
          "name": "stderr",
          "output_type": "stream",
          "text": [
            ""
          ]
        },
        {
          "metadata": {
            "tags": null
          },
          "name": "stdout",
          "output_type": "stream",
          "text": [
            "[SGD] Epoch 16: Loss=0.0168, Train Acc=0.9972, Val Acc=0.9965, ε=4.77\n"
          ]
        },
        {
          "metadata": {
            "tags": null
          },
          "name": "stderr",
          "output_type": "stream",
          "text": [
            ""
          ]
        },
        {
          "metadata": {
            "tags": null
          },
          "name": "stdout",
          "output_type": "stream",
          "text": [
            "[SGD] Epoch 17: Loss=0.0159, Train Acc=0.9947, Val Acc=0.9966, ε=4.83\n"
          ]
        },
        {
          "metadata": {
            "tags": null
          },
          "name": "stderr",
          "output_type": "stream",
          "text": [
            ""
          ]
        },
        {
          "metadata": {
            "tags": null
          },
          "name": "stdout",
          "output_type": "stream",
          "text": [
            "[SGD] Epoch 18: Loss=0.0161, Train Acc=0.9954, Val Acc=0.9967, ε=4.89\n"
          ]
        },
        {
          "metadata": {
            "tags": null
          },
          "name": "stderr",
          "output_type": "stream",
          "text": [
            ""
          ]
        },
        {
          "metadata": {
            "tags": null
          },
          "name": "stdout",
          "output_type": "stream",
          "text": [
            "[SGD] Epoch 19: Loss=0.0155, Train Acc=0.9974, Val Acc=0.9968, ε=4.94\n"
          ]
        },
        {
          "metadata": {
            "tags": null
          },
          "name": "stderr",
          "output_type": "stream",
          "text": [
            ""
          ]
        },
        {
          "metadata": {
            "tags": null
          },
          "name": "stdout",
          "output_type": "stream",
          "text": [
            "[SGD] Epoch 20: Loss=0.0159, Train Acc=0.9985, Val Acc=0.9969, ε=5.00\n",
            "[SGD] Final Test Accuracy=0.9968, F1-score=0.9674, ε=5.00\n",
            "\n",
            "==== Running with DP-Adam ====\n"
          ]
        },
        {
          "metadata": {
            "tags": null
          },
          "name": "stderr",
          "output_type": "stream",
          "text": [
            "/usr/local/lib/python3.12/dist-packages/opacus/privacy_engine.py:133: UserWarning: Secure RNG turned off. This is perfectly fine for experimentation as it allows for much faster training performance, but remember to turn it on and retrain one last time before production with ``secure_mode`` turned on.\n",
            "  warnings.warn(\n",
            "/usr/local/lib/python3.12/dist-packages/opacus/accountants/analysis/rdp.py:332: UserWarning: Optimal order is the largest alpha. Please consider expanding the range of alphas to get a tighter privacy bound.\n",
            "  warnings.warn(\n",
            "WARNING:opacus.data_loader:Ignoring drop_last as it is not compatible with DPDataLoader.\n",
            "[Adam] Epoch 1/20:   0%|          | 0/2984 [00:00<?, ?it/s]/usr/local/lib/python3.12/dist-packages/torch/nn/modules/module.py:1864: FutureWarning: Using a non-full backward hook when the forward contains multiple autograd Nodes is deprecated and will be removed in future versions. This hook will be missing some grad_input. Please use register_full_backward_hook to get the documented behavior.\n",
            "  self._maybe_warn_non_full_backward_hook(args, result, grad_fn)\n"
          ]
        },
        {
          "metadata": {
            "tags": null
          },
          "name": "stdout",
          "output_type": "stream",
          "text": [
            "[Adam] Epoch 1: Loss=0.0519, Train Acc=0.9912, Val Acc=0.9975, ε=3.39\n"
          ]
        },
        {
          "metadata": {
            "tags": null
          },
          "name": "stderr",
          "output_type": "stream",
          "text": [
            ""
          ]
        },
        {
          "metadata": {
            "tags": null
          },
          "name": "stdout",
          "output_type": "stream",
          "text": [
            "[Adam] Epoch 2: Loss=0.0149, Train Acc=0.9956, Val Acc=0.9972, ε=3.60\n"
          ]
        },
        {
          "metadata": {
            "tags": null
          },
          "name": "stderr",
          "output_type": "stream",
          "text": [
            ""
          ]
        },
        {
          "metadata": {
            "tags": null
          },
          "name": "stdout",
          "output_type": "stream",
          "text": [
            "[Adam] Epoch 3: Loss=0.0118, Train Acc=0.9972, Val Acc=0.9977, ε=3.74\n"
          ]
        },
        {
          "output_type": "stream",
          "name": "stderr",
          "text": []
        },
        {
          "output_type": "stream",
          "name": "stdout",
          "text": [
            "[Adam] Epoch 4: Loss=0.0115, Train Acc=0.9978, Val Acc=0.9984, ε=3.86\n"
          ]
        },
        {
          "output_type": "stream",
          "name": "stderr",
          "text": []
        },
        {
          "output_type": "stream",
          "name": "stdout",
          "text": [
            "[Adam] Epoch 5: Loss=0.0105, Train Acc=0.9985, Val Acc=0.9983, ε=3.96\n"
          ]
        },
        {
          "output_type": "stream",
          "name": "stderr",
          "text": []
        },
        {
          "output_type": "stream",
          "name": "stdout",
          "text": [
            "[Adam] Epoch 6: Loss=0.0115, Train Acc=0.9966, Val Acc=0.9984, ε=4.06\n"
          ]
        },
        {
          "output_type": "stream",
          "name": "stderr",
          "text": []
        },
        {
          "output_type": "stream",
          "name": "stdout",
          "text": [
            "[Adam] Epoch 7: Loss=0.0108, Train Acc=1.0012, Val Acc=0.9985, ε=4.15\n"
          ]
        },
        {
          "output_type": "stream",
          "name": "stderr",
          "text": []
        },
        {
          "output_type": "stream",
          "name": "stdout",
          "text": [
            "[Adam] Epoch 8: Loss=0.0110, Train Acc=0.9981, Val Acc=0.9979, ε=4.23\n"
          ]
        },
        {
          "output_type": "stream",
          "name": "stderr",
          "text": []
        },
        {
          "output_type": "stream",
          "name": "stdout",
          "text": [
            "[Adam] Epoch 9: Loss=0.0106, Train Acc=0.9979, Val Acc=0.9984, ε=4.30\n"
          ]
        },
        {
          "output_type": "stream",
          "name": "stderr",
          "text": []
        },
        {
          "output_type": "stream",
          "name": "stdout",
          "text": [
            "[Adam] Epoch 10: Loss=0.0125, Train Acc=0.9971, Val Acc=0.9981, ε=4.38\n"
          ]
        },
        {
          "output_type": "stream",
          "name": "stderr",
          "text": []
        },
        {
          "output_type": "stream",
          "name": "stdout",
          "text": [
            "[Adam] Epoch 11: Loss=0.0126, Train Acc=0.9954, Val Acc=0.9981, ε=4.46\n"
          ]
        },
        {
          "output_type": "stream",
          "name": "stderr",
          "text": []
        },
        {
          "output_type": "stream",
          "name": "stdout",
          "text": [
            "[Adam] Epoch 12: Loss=0.0119, Train Acc=1.0001, Val Acc=0.9984, ε=4.52\n"
          ]
        },
        {
          "output_type": "stream",
          "name": "stderr",
          "text": []
        },
        {
          "output_type": "stream",
          "name": "stdout",
          "text": [
            "[Adam] Epoch 13: Loss=0.0118, Train Acc=0.9983, Val Acc=0.9984, ε=4.58\n"
          ]
        },
        {
          "output_type": "stream",
          "name": "stderr",
          "text": []
        },
        {
          "output_type": "stream",
          "name": "stdout",
          "text": [
            "[Adam] Epoch 14: Loss=0.0100, Train Acc=1.0001, Val Acc=0.9990, ε=4.64\n"
          ]
        },
        {
          "output_type": "stream",
          "name": "stderr",
          "text": []
        },
        {
          "output_type": "stream",
          "name": "stdout",
          "text": [
            "[Adam] Epoch 15: Loss=0.0081, Train Acc=0.9984, Val Acc=0.9989, ε=4.71\n"
          ]
        },
        {
          "output_type": "stream",
          "name": "stderr",
          "text": []
        },
        {
          "output_type": "stream",
          "name": "stdout",
          "text": [
            "[Adam] Epoch 16: Loss=0.0096, Train Acc=0.9989, Val Acc=0.9987, ε=4.77\n"
          ]
        },
        {
          "output_type": "stream",
          "name": "stderr",
          "text": []
        },
        {
          "output_type": "stream",
          "name": "stdout",
          "text": [
            "[Adam] Epoch 17: Loss=0.0117, Train Acc=0.9984, Val Acc=0.9986, ε=4.83\n"
          ]
        },
        {
          "output_type": "stream",
          "name": "stderr",
          "text": []
        },
        {
          "output_type": "stream",
          "name": "stdout",
          "text": [
            "[Adam] Epoch 18: Loss=0.0115, Train Acc=0.9987, Val Acc=0.9988, ε=4.89\n"
          ]
        },
        {
          "output_type": "stream",
          "name": "stderr",
          "text": []
        },
        {
          "output_type": "stream",
          "name": "stdout",
          "text": [
            "[Adam] Epoch 19: Loss=0.0145, Train Acc=0.9993, Val Acc=0.9986, ε=4.94\n"
          ]
        },
        {
          "output_type": "stream",
          "name": "stderr",
          "text": []
        },
        {
          "output_type": "stream",
          "name": "stdout",
          "text": [
            "[Adam] Epoch 20: Loss=0.0123, Train Acc=0.9994, Val Acc=0.9985, ε=5.00\n",
            "[Adam] Final Test Accuracy=0.9985, F1-score=0.9886, ε=5.00\n"
          ]
        },
        {
          "output_type": "display_data",
          "data": {
            "text/plain": [
              "<Figure size 1500x400 with 3 Axes>"
            ],
            "image/png": "[encoded data removed]"
          },
          "metadata": {}
        },
        {
          "output_type": "stream",
          "name": "stdout",
          "text": [
            "DP-SGD Confusion Matrix:\n",
            " [[  1573      0      0      0      0]\n",
            " [     0   1095    255      0      0]\n",
            " [    81     70 141784    125      0]\n",
            " [     0      0      0   8889      0]\n",
            " [     0      0      0      0   9865]]\n",
            "DP-Adam Confusion Matrix:\n",
            " [[  1573      0      0      0      0]\n",
            " [     0   1251     99      0      0]\n",
            " [    23     11 141909    117      0]\n",
            " [     0      0      0   8889      0]\n",
            " [     0      0      0      0   9865]]\n"
          ]
        }
      ]
    }
  ]
}