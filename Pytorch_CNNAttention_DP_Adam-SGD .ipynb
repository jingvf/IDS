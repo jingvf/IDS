{
  "nbformat": 4,
  "nbformat_minor": 0,
  "metadata": {
    "colab": {
      "provenance": [],
      "gpuType": "T4",
      "mount_file_id": "1TxOXSk7EByCs6bEZ_ObsNFBcrzrv4MXb",
      "authorship_tag": "ABX9TyOIfGa77AIqjMPvsHeE+Fe3",
      "include_colab_link": true
    },
    "kernelspec": {
      "name": "python3",
      "display_name": "Python 3"
    },
    "language_info": {
      "name": "python"
    },
    "accelerator": "GPU"
  },
  "cells": [
    {
      "cell_type": "markdown",
      "metadata": {
        "id": "view-in-github",
        "colab_type": "text"
      },
      "source": [
        "<a href=\"https://colab.research.google.com/github/jingvf/IDS/blob/main/Pytorch_CNNAttention_DP_Adam-SGD%20.ipynb\" target=\"_parent\"><img src=\"https://colab.research.google.com/assets/colab-badge.svg\" alt=\"Open In Colab\"/></a>"
      ]
    },
    {
      "cell_type": "code",
      "execution_count": 4,
      "metadata": {
        "id": "S8Jmwbcv_DdW",
        "colab": {
          "base_uri": "https://localhost:8080/"
        },
        "outputId": "b579c91e-3867-4e18-d08d-32b904ec7f3b"
      },
      "outputs": [
        {
          "output_type": "stream",
          "name": "stdout",
          "text": [
            "Using device: cuda\n"
          ]
        }
      ],
      "source": [
        "import pandas as pd\n",
        "import numpy as np\n",
        "import torch\n",
        "import torch.nn as nn\n",
        "import torch.nn.functional as F\n",
        "import torch.optim as optim\n",
        "from sklearn.preprocessing import StandardScaler, LabelEncoder\n",
        "from sklearn.model_selection import train_test_split\n",
        "from sklearn.metrics import accuracy_score, f1_score, confusion_matrix\n",
        "from torch.utils.data import TensorDataset, DataLoader\n",
        "from opacus import PrivacyEngine\n",
        "from tqdm import tqdm\n",
        "import matplotlib.pyplot as plt\n",
        "\n",
        "device = torch.device(\"cuda\" if torch.cuda.is_available() else \"cpu\")\n",
        "print(f\"Using device: {device}\")\n",
        "# 加载数据\n",
        "data_path = '/content/drive/MyDrive/2025paper/dataset/small_dataset.csv'  # 替换为你的数据路径\n",
        "df = pd.read_csv(data_path)"
      ]
    },
    {
      "cell_type": "code",
      "metadata": {
        "id": "9826b547"
      },
      "source": [
        "!pip install opacus -qq"
      ],
      "execution_count": 5,
      "outputs": []
    },
    {
      "cell_type": "code",
      "source": [
        "# 输出类别数量\n",
        "num_classes = df['Class'].nunique()\n",
        "print(f\"总类别数: {num_classes}\")\n",
        "\n",
        "# 输出每个类别的数量\n",
        "class_counts = df['Class'].value_counts()\n",
        "print(\"每个类别的样本数量：\")\n",
        "print(class_counts)\n",
        "print(df.head())"
      ],
      "metadata": {
        "id": "EO6bYi9E_3Ut",
        "colab": {
          "base_uri": "https://localhost:8080/"
        },
        "outputId": "0820605a-5e94-49e3-e172-09189f0819ad"
      },
      "execution_count": 6,
      "outputs": [
        {
          "output_type": "stream",
          "name": "stdout",
          "text": [
            "总类别数: 5\n",
            "每个类别的样本数量：\n",
            "Class\n",
            "Normal          946844\n",
            "SpoofingRPM      65490\n",
            "SpoofingGear     59725\n",
            "DoS              10553\n",
            "Fuzzy             8967\n",
            "Name: count, dtype: int64\n",
            "      Timestamp CAN ID  DLC Data[0] Data[1] Data[2] Data[3] Data[4] Data[5]  \\\n",
            "0  1.478192e+09    316    8      45      29      24      ff      29      24   \n",
            "1  1.478192e+09    316    8      45      29      24      ff      29      24   \n",
            "2  1.478195e+09   0140    8      00      00      00      00      08      28   \n",
            "3  1.478191e+09   0545    8      d8      00      00      8a      00      00   \n",
            "4  1.478195e+09   043f    8       1      45      60      ff      6b       0   \n",
            "\n",
            "  Data[6] Data[7]         Class  \n",
            "0       0      ff   SpoofingRPM  \n",
            "1       0      ff   SpoofingRPM  \n",
            "2      2f      15        Normal  \n",
            "3      00      00        Normal  \n",
            "4       0       0  SpoofingGear  \n"
          ]
        }
      ]
    },
    {
      "cell_type": "code",
      "source": [
        "# 1. CAN ID 转成 int（十六进制字符串 → 十进制）\n",
        "# =====================\n",
        "df[\"CAN ID\"] = df[\"CAN ID\"].apply(lambda x: int(str(x), 16) if isinstance(x, str) else int(x))\n",
        "\n",
        "# 特征列\n",
        "feature_cols = [\"CAN ID\", \"DLC\"] + [f\"Data[{i}]\" for i in range(8)]\n",
        "X_features = df[feature_cols].astype(str).applymap(lambda x: int(x, 16) if isinstance(x, str) else int(x)).values\n",
        "\n",
        "# 标签\n",
        "y = df[\"Class\"].values\n",
        "le = LabelEncoder()\n",
        "y_encoded = le.fit_transform(y)\n",
        "\n",
        "# 标准化\n",
        "scaler = StandardScaler()\n",
        "X_scaled = scaler.fit_transform(X_features)\n",
        "\n",
        "# 数据维度调整 (B, T, F)，这里把 T=1 表示每条 CAN 消息为一个时间步\n",
        "X_scaled = X_scaled[:, np.newaxis, :]  # shape -> [num_samples, 1, num_features]\n",
        "\n",
        "# =====================\n",
        "# 5. 类别权重 (用统计的数量，如果需要自动算就用 np.bincount(y_encoded))\n",
        "# =====================\n",
        "counts = [946844, 65490, 59725, 10553, 8967]  # 示例：之前统计好的数量\n",
        "device = torch.device(\"cuda\" if torch.cuda.is_available() else \"cpu\")\n",
        "print(f\"Using device: {device}\")\n",
        "total = sum(counts)\n",
        "class_weights = [total / c for c in counts]\n",
        "class_weights = torch.tensor(class_weights, dtype=torch.float32).to(device)"
      ],
      "metadata": {
        "id": "A0HmSkdw_2CI",
        "colab": {
          "base_uri": "https://localhost:8080/"
        },
        "outputId": "b12a27d9-d754-4ab4-b6dd-7161ca2f9698"
      },
      "execution_count": 12,
      "outputs": [
        {
          "output_type": "stream",
          "name": "stderr",
          "text": [
            "/tmp/ipython-input-507287565.py:7: FutureWarning: DataFrame.applymap has been deprecated. Use DataFrame.map instead.\n",
            "  X_features = df[feature_cols].astype(str).applymap(lambda x: int(x, 16) if isinstance(x, str) else int(x)).values\n"
          ]
        },
        {
          "output_type": "stream",
          "name": "stdout",
          "text": [
            "Using device: cuda\n"
          ]
        }
      ]
    },
    {
      "cell_type": "code",
      "source": [
        "print(\"特征矩阵形状:\", X_features_scaled.shape)\n",
        "print(\"标签数量:\", len(y_encoded))\n",
        "print(\"类别权重:\", class_weights)\n"
      ],
      "metadata": {
        "colab": {
          "base_uri": "https://localhost:8080/"
        },
        "id": "Gr0J3l7LTyF8",
        "outputId": "b83dbdc5-4cb5-4d49-daf2-b33ab308f722"
      },
      "execution_count": 14,
      "outputs": [
        {
          "output_type": "stream",
          "name": "stdout",
          "text": [
            "特征矩阵形状: (1091579, 10)\n",
            "标签数量: 1091579\n",
            "类别权重: tensor([  1.1529,  16.6679,  18.2768, 103.4378, 121.7329], device='cuda:0')\n"
          ]
        }
      ]
    },
    {
      "cell_type": "code",
      "source": [
        "X_train, X_temp, y_train, y_temp = train_test_split(X_scaled, y_encoded, test_size=0.3, random_state=42)\n",
        "X_val, X_test, y_val, y_test = train_test_split(X_temp, y_temp, test_size=0.5, random_state=42)\n",
        "\n",
        "# 转 Tensor\n",
        "train_dataset = TensorDataset(torch.tensor(X_train, dtype=torch.float32),\n",
        "                              torch.tensor(y_train, dtype=torch.long))\n",
        "val_dataset = TensorDataset(torch.tensor(X_val, dtype=torch.float32),\n",
        "                            torch.tensor(y_val, dtype=torch.long))\n",
        "test_dataset = TensorDataset(torch.tensor(X_test, dtype=torch.float32),\n",
        "                             torch.tensor(y_test, dtype=torch.long))\n",
        "\n",
        "BATCH_SIZE = 1024\n",
        "train_loader = DataLoader(train_dataset, batch_size=BATCH_SIZE, shuffle=True, drop_last=True)\n",
        "val_loader = DataLoader(val_dataset, batch_size=BATCH_SIZE, shuffle=False)\n",
        "test_loader = DataLoader(test_dataset, batch_size=BATCH_SIZE, shuffle=False)"
      ],
      "metadata": {
        "id": "AH38IIR1TFrs"
      },
      "execution_count": 15,
      "outputs": []
    },
    {
      "cell_type": "code",
      "source": [
        "!pip install opacus==1.1.3 -q # 指定稳定版本\n",
        "import opacus\n",
        "print(opacus.__version__)"
      ],
      "metadata": {
        "colab": {
          "base_uri": "https://localhost:8080/"
        },
        "id": "W2Ll7Z8fTD8c",
        "outputId": "03e5e232-fd22-4caf-814e-b7d24cd168ee"
      },
      "execution_count": 16,
      "outputs": [
        {
          "output_type": "stream",
          "name": "stdout",
          "text": [
            "\u001b[?25l   \u001b[90m━━━━━━━━━━━━━━━━━━━━━━━━━━━━━━━━━━━━━━━━\u001b[0m \u001b[32m0.0/181.7 kB\u001b[0m \u001b[31m?\u001b[0m eta \u001b[36m-:--:--\u001b[0m\r\u001b[2K   \u001b[90m━━━━━━━━━━━━━━━━━━━━━━━━━━━━━━━━━━━━━━━━\u001b[0m \u001b[32m181.7/181.7 kB\u001b[0m \u001b[31m6.4 MB/s\u001b[0m eta \u001b[36m0:00:00\u001b[0m\n",
            "\u001b[?25h1.5.4\n"
          ]
        }
      ]
    },
    {
      "cell_type": "code",
      "source": [
        "# 3. 模型定义：CNN-Attention (DP友好)\n",
        "# ================================\n",
        "class DPMultiHeadSelfAttention(nn.Module):\n",
        "    def __init__(self, embed_dim, num_heads):\n",
        "        super().__init__()\n",
        "        assert embed_dim % num_heads == 0\n",
        "        self.num_heads = num_heads\n",
        "        self.head_dim = embed_dim // num_heads\n",
        "        self.q_proj = nn.Linear(embed_dim, embed_dim)\n",
        "        self.k_proj = nn.Linear(embed_dim, embed_dim)\n",
        "        self.v_proj = nn.Linear(embed_dim, embed_dim)\n",
        "        self.out_proj = nn.Linear(embed_dim, embed_dim)\n",
        "\n",
        "    def forward(self, x):\n",
        "        B, T, C = x.shape\n",
        "        Q = self.q_proj(x).view(B, T, self.num_heads, self.head_dim).transpose(1, 2)\n",
        "        K = self.k_proj(x).view(B, T, self.num_heads, self.head_dim).transpose(1, 2)\n",
        "        V = self.v_proj(x).view(B, T, self.num_heads, self.head_dim).transpose(1, 2)\n",
        "        attn_scores = (Q @ K.transpose(-2, -1)) / (self.head_dim ** 0.5)\n",
        "        attn_weights = F.softmax(attn_scores, dim=-1)\n",
        "        attn_out = attn_weights @ V\n",
        "        attn_out = attn_out.transpose(1, 2).contiguous().view(B, T, C)\n",
        "        return self.out_proj(attn_out)\n",
        "\n",
        "class DPCNNAttention(nn.Module):\n",
        "    def __init__(self, input_dim, num_classes, num_heads=4, hidden_dim=128):\n",
        "        super().__init__()\n",
        "        self.conv1 = nn.Conv1d(input_dim, hidden_dim, kernel_size=3, padding=1)\n",
        "        self.conv2 = nn.Conv1d(hidden_dim, hidden_dim, kernel_size=3, padding=1)\n",
        "        self.gn1 = nn.GroupNorm(num_groups=8, num_channels=hidden_dim)\n",
        "        self.gn2 = nn.GroupNorm(num_groups=8, num_channels=hidden_dim)\n",
        "        self.attn = DPMultiHeadSelfAttention(hidden_dim, num_heads)\n",
        "        self.fc = nn.Linear(hidden_dim, num_classes)\n",
        "\n",
        "    def forward(self, x):\n",
        "        x = x.transpose(1, 2)\n",
        "        x = F.relu(self.gn1(self.conv1(x)))\n",
        "        x = F.relu(self.gn2(self.conv2(x)))\n",
        "        x = x.transpose(1, 2)\n",
        "        attn_out = self.attn(x)\n",
        "        pooled = attn_out.mean(dim=1)\n",
        "        return self.fc(pooled)"
      ],
      "metadata": {
        "id": "6marWhK6T4DV"
      },
      "execution_count": 17,
      "outputs": []
    },
    {
      "cell_type": "code",
      "source": [
        "# 4. 训练函数 (支持 DP-SGD & DP-Adam)\n",
        "# ================================\n",
        "def train_and_evaluate(train_loader, val_loader, test_loader, optimizer_type=\"SGD\",\n",
        "                       input_dim=11, num_classes=5, epochs=5, lr=1e-3,\n",
        "                       max_grad_norm=1.0, target_epsilon=5.0, target_delta=1e-5):\n",
        "\n",
        "    model = DPCNNAttention(input_dim, num_classes).to(device)\n",
        "    criterion = nn.CrossEntropyLoss()\n",
        "\n",
        "    if optimizer_type == \"SGD\":\n",
        "        optimizer = optim.SGD(model.parameters(), lr=lr, momentum=0.9)\n",
        "    elif optimizer_type == \"Adam\":\n",
        "        optimizer = optim.Adam(model.parameters(), lr=lr)\n",
        "    else:\n",
        "        raise ValueError(\"Unknown optimizer type\")\n",
        "\n",
        "    privacy_engine = PrivacyEngine()\n",
        "    model, optimizer, train_loader = privacy_engine.make_private_with_epsilon(\n",
        "        module=model,\n",
        "        optimizer=optimizer,\n",
        "        data_loader=train_loader,\n",
        "        epochs=epochs,\n",
        "        target_epsilon=target_epsilon,\n",
        "        target_delta=target_delta,\n",
        "        max_grad_norm=max_grad_norm,\n",
        "    )\n",
        "\n",
        "    train_losses, val_accs, epsilons = [], [], []\n",
        "\n",
        "    for epoch in range(epochs):\n",
        "        model.train()\n",
        "        total_loss, total_correct = 0, 0\n",
        "        progress_bar = tqdm(train_loader, desc=f\"[{optimizer_type}] Epoch {epoch+1}/{epochs}\", leave=False)\n",
        "\n",
        "        for feats, labels in progress_bar:\n",
        "            feats, labels = feats.to(device), labels.to(device)\n",
        "            optimizer.zero_grad()\n",
        "            outputs = model(feats)\n",
        "            loss = criterion(outputs, labels)\n",
        "            loss.backward()\n",
        "            optimizer.step()\n",
        "\n",
        "            preds = outputs.argmax(1)\n",
        "            total_loss += loss.item() * labels.size(0)\n",
        "            total_correct += (preds == labels).sum().item()\n",
        "            progress_bar.set_postfix(loss=loss.item())\n",
        "\n",
        "        train_loss = total_loss / len(train_loader.dataset)\n",
        "        train_acc = total_correct / len(train_loader.dataset)\n",
        "        train_losses.append(train_loss)\n",
        "\n",
        "        # 验证\n",
        "        model.eval()\n",
        "        val_correct, val_total = 0, 0\n",
        "        with torch.no_grad():\n",
        "            for feats, labels in val_loader:\n",
        "                feats, labels = feats.to(device), labels.to(device)\n",
        "                outputs = model(feats)\n",
        "                preds = outputs.argmax(1)\n",
        "                val_correct += (preds == labels).sum().item()\n",
        "                val_total += labels.size(0)\n",
        "        val_acc = val_correct / val_total\n",
        "        val_accs.append(val_acc)\n",
        "\n",
        "        epsilon = privacy_engine.accountant.get_epsilon(delta=target_delta)\n",
        "        epsilons.append(epsilon)\n",
        "        print(f\"[{optimizer_type}] Epoch {epoch+1}: Loss={train_loss:.4f}, Train Acc={train_acc:.4f}, Val Acc={val_acc:.4f}, ε={epsilon:.2f}\")\n",
        "\n",
        "    # 测试\n",
        "    model.eval()\n",
        "    test_correct, test_total = 0, 0\n",
        "    y_true_all, y_pred_all = [], []\n",
        "    with torch.no_grad():\n",
        "        for feats, labels in test_loader:\n",
        "            feats, labels = feats.to(device), labels.to(device)\n",
        "            outputs = model(feats)\n",
        "            preds = outputs.argmax(1)\n",
        "            test_correct += (preds == labels).sum().item()\n",
        "            test_total += labels.size(0)\n",
        "            y_true_all.extend(labels.cpu().numpy())\n",
        "            y_pred_all.extend(preds.cpu().numpy())\n",
        "\n",
        "    test_acc = test_correct / test_total\n",
        "    test_f1 = f1_score(y_true_all, y_pred_all, average=\"macro\")\n",
        "    conf_mat = confusion_matrix(y_true_all, y_pred_all)\n",
        "    print(f\"[{optimizer_type}] Final Test Accuracy={test_acc:.4f}, F1-score={test_f1:.4f}, ε={epsilons[-1]:.2f}\")\n",
        "\n",
        "    return train_losses, val_accs, epsilons, test_acc, test_f1, conf_mat\n",
        "\n",
        "# ================================\n",
        "# 5. 实验对比入口\n",
        "# ================================\n",
        "def run_experiments(train_loader, val_loader, test_loader, input_dim, num_classes):\n",
        "    results = {}\n",
        "    for opt in [\"SGD\", \"Adam\"]:\n",
        "        print(f\"\\n==== Running with DP-{opt} ====\")\n",
        "        train_losses, val_accs, epsilons, test_acc, test_f1, conf_mat = train_and_evaluate(\n",
        "            train_loader, val_loader, test_loader,\n",
        "            optimizer_type=opt,\n",
        "            input_dim=input_dim,\n",
        "            num_classes=num_classes\n",
        "        )\n",
        "        results[opt] = {\"train_losses\": train_losses,\n",
        "                        \"val_accs\": val_accs,\n",
        "                        \"epsilons\": epsilons,\n",
        "                        \"test_acc\": test_acc,\n",
        "                        \"test_f1\": test_f1,\n",
        "                        \"conf_mat\": conf_mat}\n",
        "\n",
        "    # 可视化\n",
        "    plt.figure(figsize=(15,4))\n",
        "    plt.subplot(1,3,1)\n",
        "    plt.plot(results[\"SGD\"][\"train_losses\"], label=\"DP-SGD\")\n",
        "    plt.plot(results[\"Adam\"][\"train_losses\"], label=\"DP-Adam\")\n",
        "    plt.title(\"Training Loss\"); plt.legend()\n",
        "\n",
        "    plt.subplot(1,3,2)\n",
        "    plt.plot(results[\"SGD\"][\"val_accs\"], label=\"DP-SGD\")\n",
        "    plt.plot(results[\"Adam\"][\"val_accs\"], label=\"DP-Adam\")\n",
        "    plt.title(\"Validation Accuracy\"); plt.legend()\n",
        "\n",
        "    plt.subplot(1,3,3)\n",
        "    plt.plot(results[\"SGD\"][\"epsilons\"], label=\"DP-SGD\")\n",
        "    plt.plot(results[\"Adam\"][\"epsilons\"], label=\"DP-Adam\")\n",
        "    plt.title(\"Epsilon over Epochs\"); plt.legend()\n",
        "    plt.show()\n",
        "\n",
        "    return results\n",
        "\n",
        "# ================================\n",
        "# 6. 运行实验\n",
        "# ================================\n",
        "results = run_experiments(train_loader, val_loader, test_loader,\n",
        "                          input_dim=X_scaled.shape[2], num_classes=len(set(y_encoded)))\n",
        "\n",
        "# 查看混淆矩阵\n",
        "print(\"DP-SGD Confusion Matrix:\\n\", results[\"SGD\"][\"conf_mat\"])\n",
        "print(\"DP-Adam Confusion Matrix:\\n\", results[\"Adam\"][\"conf_mat\"])"
      ],
      "metadata": {
        "colab": {
          "base_uri": "https://localhost:8080/",
          "height": 1000
        },
        "id": "oWOlVs5HaIzQ",
        "outputId": "7f1d2c56-8824-4578-a4ee-7f165fef9b7e"
      },
      "execution_count": 18,
      "outputs": [
        {
          "output_type": "stream",
          "name": "stdout",
          "text": [
            "\n",
            "==== Running with DP-SGD ====\n"
          ]
        },
        {
          "output_type": "stream",
          "name": "stderr",
          "text": [
            "/usr/local/lib/python3.12/dist-packages/opacus/privacy_engine.py:96: UserWarning: Secure RNG turned off. This is perfectly fine for experimentation as it allows for much faster training performance, but remember to turn it on and retrain one last time before production with ``secure_mode`` turned on.\n",
            "  ...    noise_multiplier=1.0,\n",
            "/usr/local/lib/python3.12/dist-packages/opacus/accountants/analysis/rdp.py:332: UserWarning: Optimal order is the largest alpha. Please consider expanding the range of alphas to get a tighter privacy bound.\n",
            "  warnings.warn(\n",
            "WARNING:opacus.data_loader:Ignoring drop_last as it is not compatible with DPDataLoader.\n",
            "[SGD] Epoch 1/5:   0%|          | 0/746 [00:00<?, ?it/s]sys:1: UserWarning: Full backward hook is firing when gradients are computed with respect to module outputs since no inputs require gradients. See https://docs.pytorch.org/docs/main/generated/torch.nn.Module.html#torch.nn.Module.register_full_backward_hook for more details.\n"
          ]
        },
        {
          "output_type": "stream",
          "name": "stdout",
          "text": [
            "[SGD] Epoch 1: Loss=0.5774, Train Acc=0.8514, Val Acc=0.8678, ε=3.65\n"
          ]
        },
        {
          "output_type": "stream",
          "name": "stderr",
          "text": []
        },
        {
          "output_type": "stream",
          "name": "stdout",
          "text": [
            "[SGD] Epoch 2: Loss=0.2249, Train Acc=0.9656, Val Acc=0.9756, ε=4.12\n"
          ]
        },
        {
          "output_type": "stream",
          "name": "stderr",
          "text": []
        },
        {
          "output_type": "stream",
          "name": "stdout",
          "text": [
            "[SGD] Epoch 3: Loss=0.1710, Train Acc=0.9762, Val Acc=0.9764, ε=4.46\n"
          ]
        },
        {
          "output_type": "stream",
          "name": "stderr",
          "text": []
        },
        {
          "output_type": "stream",
          "name": "stdout",
          "text": [
            "[SGD] Epoch 4: Loss=0.1562, Train Acc=0.9758, Val Acc=0.9782, ε=4.74\n"
          ]
        },
        {
          "output_type": "stream",
          "name": "stderr",
          "text": []
        },
        {
          "output_type": "stream",
          "name": "stdout",
          "text": [
            "[SGD] Epoch 5: Loss=0.1427, Train Acc=0.9805, Val Acc=0.9789, ε=5.00\n",
            "[SGD] Final Test Accuracy=0.9787, F1-score=0.5915, ε=5.00\n",
            "\n",
            "==== Running with DP-Adam ====\n"
          ]
        },
        {
          "output_type": "stream",
          "name": "stderr",
          "text": [
            "/usr/local/lib/python3.12/dist-packages/opacus/privacy_engine.py:96: UserWarning: Secure RNG turned off. This is perfectly fine for experimentation as it allows for much faster training performance, but remember to turn it on and retrain one last time before production with ``secure_mode`` turned on.\n",
            "  ...    noise_multiplier=1.0,\n",
            "/usr/local/lib/python3.12/dist-packages/opacus/accountants/analysis/rdp.py:332: UserWarning: Optimal order is the largest alpha. Please consider expanding the range of alphas to get a tighter privacy bound.\n",
            "  warnings.warn(\n",
            "WARNING:opacus.data_loader:Ignoring drop_last as it is not compatible with DPDataLoader.\n",
            "[Adam] Epoch 1/5:   0%|          | 0/746 [00:00<?, ?it/s]sys:1: UserWarning: Full backward hook is firing when gradients are computed with respect to module outputs since no inputs require gradients. See https://docs.pytorch.org/docs/main/generated/torch.nn.Module.html#torch.nn.Module.register_full_backward_hook for more details.\n"
          ]
        },
        {
          "output_type": "stream",
          "name": "stdout",
          "text": [
            "[Adam] Epoch 1: Loss=0.0940, Train Acc=0.9848, Val Acc=0.9974, ε=3.65\n"
          ]
        },
        {
          "output_type": "stream",
          "name": "stderr",
          "text": []
        },
        {
          "output_type": "stream",
          "name": "stdout",
          "text": [
            "[Adam] Epoch 2: Loss=0.0144, Train Acc=0.9982, Val Acc=0.9981, ε=4.12\n"
          ]
        },
        {
          "output_type": "stream",
          "name": "stderr",
          "text": []
        },
        {
          "output_type": "stream",
          "name": "stdout",
          "text": [
            "[Adam] Epoch 3: Loss=0.0122, Train Acc=0.9985, Val Acc=0.9985, ε=4.46\n"
          ]
        },
        {
          "output_type": "stream",
          "name": "stderr",
          "text": []
        },
        {
          "output_type": "stream",
          "name": "stdout",
          "text": [
            "[Adam] Epoch 4: Loss=0.0103, Train Acc=0.9988, Val Acc=0.9985, ε=4.74\n"
          ]
        },
        {
          "output_type": "stream",
          "name": "stderr",
          "text": []
        },
        {
          "output_type": "stream",
          "name": "stdout",
          "text": [
            "[Adam] Epoch 5: Loss=0.0078, Train Acc=1.0005, Val Acc=0.9992, ε=5.00\n",
            "[Adam] Final Test Accuracy=0.9991, F1-score=0.9916, ε=5.00\n"
          ]
        },
        {
          "output_type": "display_data",
          "data": {
            "text/plain": [
              "<Figure size 1500x400 with 3 Axes>"
            ],
            "image/png": "[encoded data removed]"
          },
          "metadata": {}
        },
        {
          "output_type": "stream",
          "name": "stdout",
          "text": [
            "DP-SGD Confusion Matrix:\n",
            " [[     0      0   1573      0      0]\n",
            " [     0      0   1349      0      1]\n",
            " [     0      0 141503    537     20]\n",
            " [     0      0      0   8889      0]\n",
            " [     0      0      0      0   9865]]\n",
            "DP-Adam Confusion Matrix:\n",
            " [[  1573      0      0      0      0]\n",
            " [     0   1258     90      0      2]\n",
            " [     0      9 142000     51      0]\n",
            " [     0      0      0   8889      0]\n",
            " [     0      0      0      0   9865]]\n"
          ]
        }
      ]
    }
  ]
}